{
 "cells": [
  {
   "cell_type": "markdown",
   "metadata": {},
   "source": [
    "#####About\n",
    "<I>Extracts features from <b>TRAINING</b> files and saves as <b>X_train.npy</b> and <b>y_train.npy</b>"
   ]
  },
  {
   "cell_type": "markdown",
   "metadata": {},
   "source": [
    "##Importing Libraries"
   ]
  },
  {
   "cell_type": "code",
   "execution_count": 1,
   "metadata": {
    "collapsed": false
   },
   "outputs": [
    {
     "name": "stdout",
     "output_type": "stream",
     "text": [
      "Populating the interactive namespace from numpy and matplotlib\n"
     ]
    },
    {
     "name": "stderr",
     "output_type": "stream",
     "text": [
      "WARNING: pylab import has clobbered these variables: ['normalize']\n",
      "`%matplotlib` prevents importing * from pylab and numpy\n"
     ]
    }
   ],
   "source": [
    "# Importing Libraries \n",
    "import csv\n",
    "import math\n",
    "import pandas as pd\n",
    "from IPython.display import clear_output\n",
    "import numpy as np\n",
    "import matplotlib.pyplot as plt \n",
    "from sklearn.preprocessing import StandardScaler, OneHotEncoder, Imputer,normalize\n",
    "from sklearn import preprocessing\n",
    "from pandas.stats.api import ols\n",
    "import statsmodels.api as sm\n",
    "from scipy.stats import linregress\n",
    "%pylab inline"
   ]
  },
  {
   "cell_type": "code",
   "execution_count": 40,
   "metadata": {
    "collapsed": false
   },
   "outputs": [],
   "source": [
    "# reading training files \n",
    "age=pd.read_csv('id_age_train.csv')\n",
    "lbl=pd.read_csv('label_train.csv')\n",
    "vit=pd.read_csv('vitals_train.csv', usecols=['ID','TIME','ICU'])\n",
    "lab=pd.read_csv('id_time_labs_train.csv')"
   ]
  },
  {
   "cell_type": "code",
   "execution_count": 45,
   "metadata": {
    "collapsed": false
   },
   "outputs": [
    {
     "data": {
      "text/html": [
       "<div style=\"max-height:1000px;max-width:1500px;overflow:auto;\">\n",
       "<table border=\"1\" class=\"dataframe\">\n",
       "  <thead>\n",
       "    <tr style=\"text-align: right;\">\n",
       "      <th></th>\n",
       "      <th>ID</th>\n",
       "      <th>TIME</th>\n",
       "      <th>ICU</th>\n",
       "    </tr>\n",
       "  </thead>\n",
       "  <tbody>\n",
       "    <tr>\n",
       "      <th>0     </th>\n",
       "      <td>    1</td>\n",
       "      <td>      0</td>\n",
       "      <td> 0</td>\n",
       "    </tr>\n",
       "    <tr>\n",
       "      <th>1     </th>\n",
       "      <td>    1</td>\n",
       "      <td>   4320</td>\n",
       "      <td> 0</td>\n",
       "    </tr>\n",
       "    <tr>\n",
       "      <th>2     </th>\n",
       "      <td>    1</td>\n",
       "      <td>   5646</td>\n",
       "      <td> 1</td>\n",
       "    </tr>\n",
       "    <tr>\n",
       "      <th>3     </th>\n",
       "      <td>    1</td>\n",
       "      <td>   5703</td>\n",
       "      <td> 1</td>\n",
       "    </tr>\n",
       "    <tr>\n",
       "      <th>4     </th>\n",
       "      <td>    1</td>\n",
       "      <td>   6342</td>\n",
       "      <td> 1</td>\n",
       "    </tr>\n",
       "    <tr>\n",
       "      <th>5     </th>\n",
       "      <td>    1</td>\n",
       "      <td>   6609</td>\n",
       "      <td> 1</td>\n",
       "    </tr>\n",
       "    <tr>\n",
       "      <th>6     </th>\n",
       "      <td>    1</td>\n",
       "      <td>   6894</td>\n",
       "      <td> 1</td>\n",
       "    </tr>\n",
       "    <tr>\n",
       "      <th>7     </th>\n",
       "      <td>    1</td>\n",
       "      <td>   6957</td>\n",
       "      <td> 1</td>\n",
       "    </tr>\n",
       "    <tr>\n",
       "      <th>8     </th>\n",
       "      <td>    1</td>\n",
       "      <td>   7511</td>\n",
       "      <td> 1</td>\n",
       "    </tr>\n",
       "    <tr>\n",
       "      <th>9     </th>\n",
       "      <td>    1</td>\n",
       "      <td>   8372</td>\n",
       "      <td> 1</td>\n",
       "    </tr>\n",
       "    <tr>\n",
       "      <th>10    </th>\n",
       "      <td>    1</td>\n",
       "      <td>   9297</td>\n",
       "      <td> 1</td>\n",
       "    </tr>\n",
       "    <tr>\n",
       "      <th>11    </th>\n",
       "      <td>    1</td>\n",
       "      <td>  10213</td>\n",
       "      <td> 1</td>\n",
       "    </tr>\n",
       "    <tr>\n",
       "      <th>12    </th>\n",
       "      <td>    1</td>\n",
       "      <td>  11079</td>\n",
       "      <td> 1</td>\n",
       "    </tr>\n",
       "    <tr>\n",
       "      <th>13    </th>\n",
       "      <td>    1</td>\n",
       "      <td>  11123</td>\n",
       "      <td> 1</td>\n",
       "    </tr>\n",
       "    <tr>\n",
       "      <th>14    </th>\n",
       "      <td>    1</td>\n",
       "      <td>  12015</td>\n",
       "      <td> 1</td>\n",
       "    </tr>\n",
       "    <tr>\n",
       "      <th>15    </th>\n",
       "      <td>    1</td>\n",
       "      <td>  12889</td>\n",
       "      <td> 1</td>\n",
       "    </tr>\n",
       "    <tr>\n",
       "      <th>16    </th>\n",
       "      <td>    1</td>\n",
       "      <td>  13798</td>\n",
       "      <td> 1</td>\n",
       "    </tr>\n",
       "    <tr>\n",
       "      <th>17    </th>\n",
       "      <td>    1</td>\n",
       "      <td>  14713</td>\n",
       "      <td> 1</td>\n",
       "    </tr>\n",
       "    <tr>\n",
       "      <th>18    </th>\n",
       "      <td>    1</td>\n",
       "      <td>  15577</td>\n",
       "      <td> 1</td>\n",
       "    </tr>\n",
       "    <tr>\n",
       "      <th>19    </th>\n",
       "      <td>    1</td>\n",
       "      <td>  16523</td>\n",
       "      <td> 1</td>\n",
       "    </tr>\n",
       "    <tr>\n",
       "      <th>20    </th>\n",
       "      <td>    1</td>\n",
       "      <td>  17415</td>\n",
       "      <td> 1</td>\n",
       "    </tr>\n",
       "    <tr>\n",
       "      <th>21    </th>\n",
       "      <td>    1</td>\n",
       "      <td>  17581</td>\n",
       "      <td> 1</td>\n",
       "    </tr>\n",
       "    <tr>\n",
       "      <th>22    </th>\n",
       "      <td>    1</td>\n",
       "      <td>  17644</td>\n",
       "      <td> 1</td>\n",
       "    </tr>\n",
       "    <tr>\n",
       "      <th>23    </th>\n",
       "      <td>    1</td>\n",
       "      <td>  17893</td>\n",
       "      <td> 1</td>\n",
       "    </tr>\n",
       "    <tr>\n",
       "      <th>24    </th>\n",
       "      <td>    1</td>\n",
       "      <td>  17938</td>\n",
       "      <td> 1</td>\n",
       "    </tr>\n",
       "    <tr>\n",
       "      <th>25    </th>\n",
       "      <td>    1</td>\n",
       "      <td>  18306</td>\n",
       "      <td> 1</td>\n",
       "    </tr>\n",
       "    <tr>\n",
       "      <th>26    </th>\n",
       "      <td>    1</td>\n",
       "      <td>  21903</td>\n",
       "      <td> 1</td>\n",
       "    </tr>\n",
       "    <tr>\n",
       "      <th>27    </th>\n",
       "      <td>    1</td>\n",
       "      <td>  22787</td>\n",
       "      <td> 1</td>\n",
       "    </tr>\n",
       "    <tr>\n",
       "      <th>28    </th>\n",
       "      <td>    1</td>\n",
       "      <td>  23670</td>\n",
       "      <td> 1</td>\n",
       "    </tr>\n",
       "    <tr>\n",
       "      <th>29    </th>\n",
       "      <td>    1</td>\n",
       "      <td>  24584</td>\n",
       "      <td> 1</td>\n",
       "    </tr>\n",
       "    <tr>\n",
       "      <th>...</th>\n",
       "      <td>...</td>\n",
       "      <td>...</td>\n",
       "      <td>...</td>\n",
       "    </tr>\n",
       "    <tr>\n",
       "      <th>628407</th>\n",
       "      <td> 3594</td>\n",
       "      <td> 107386</td>\n",
       "      <td> 1</td>\n",
       "    </tr>\n",
       "    <tr>\n",
       "      <th>628408</th>\n",
       "      <td> 3594</td>\n",
       "      <td> 111004</td>\n",
       "      <td> 1</td>\n",
       "    </tr>\n",
       "    <tr>\n",
       "      <th>628409</th>\n",
       "      <td> 3594</td>\n",
       "      <td> 114605</td>\n",
       "      <td> 1</td>\n",
       "    </tr>\n",
       "    <tr>\n",
       "      <th>628410</th>\n",
       "      <td> 3594</td>\n",
       "      <td> 115010</td>\n",
       "      <td> 1</td>\n",
       "    </tr>\n",
       "    <tr>\n",
       "      <th>628411</th>\n",
       "      <td> 3594</td>\n",
       "      <td> 118210</td>\n",
       "      <td> 1</td>\n",
       "    </tr>\n",
       "    <tr>\n",
       "      <th>628412</th>\n",
       "      <td> 3594</td>\n",
       "      <td> 121812</td>\n",
       "      <td> 1</td>\n",
       "    </tr>\n",
       "    <tr>\n",
       "      <th>628413</th>\n",
       "      <td> 3594</td>\n",
       "      <td> 125428</td>\n",
       "      <td> 1</td>\n",
       "    </tr>\n",
       "    <tr>\n",
       "      <th>628414</th>\n",
       "      <td> 3594</td>\n",
       "      <td> 129024</td>\n",
       "      <td> 1</td>\n",
       "    </tr>\n",
       "    <tr>\n",
       "      <th>628415</th>\n",
       "      <td> 3594</td>\n",
       "      <td> 132575</td>\n",
       "      <td> 1</td>\n",
       "    </tr>\n",
       "    <tr>\n",
       "      <th>628416</th>\n",
       "      <td> 3594</td>\n",
       "      <td> 134562</td>\n",
       "      <td> 1</td>\n",
       "    </tr>\n",
       "    <tr>\n",
       "      <th>628417</th>\n",
       "      <td> 3594</td>\n",
       "      <td> 134989</td>\n",
       "      <td> 1</td>\n",
       "    </tr>\n",
       "    <tr>\n",
       "      <th>628418</th>\n",
       "      <td> 3594</td>\n",
       "      <td> 136184</td>\n",
       "      <td> 1</td>\n",
       "    </tr>\n",
       "    <tr>\n",
       "      <th>628419</th>\n",
       "      <td> 3594</td>\n",
       "      <td> 143397</td>\n",
       "      <td> 1</td>\n",
       "    </tr>\n",
       "    <tr>\n",
       "      <th>628420</th>\n",
       "      <td> 3594</td>\n",
       "      <td> 150035</td>\n",
       "      <td> 1</td>\n",
       "    </tr>\n",
       "    <tr>\n",
       "      <th>628421</th>\n",
       "      <td> 3594</td>\n",
       "      <td> 150727</td>\n",
       "      <td> 1</td>\n",
       "    </tr>\n",
       "    <tr>\n",
       "      <th>628422</th>\n",
       "      <td> 3594</td>\n",
       "      <td> 155715</td>\n",
       "      <td> 1</td>\n",
       "    </tr>\n",
       "    <tr>\n",
       "      <th>628423</th>\n",
       "      <td> 3594</td>\n",
       "      <td> 164985</td>\n",
       "      <td> 1</td>\n",
       "    </tr>\n",
       "    <tr>\n",
       "      <th>628424</th>\n",
       "      <td> 3594</td>\n",
       "      <td> 179398</td>\n",
       "      <td> 1</td>\n",
       "    </tr>\n",
       "    <tr>\n",
       "      <th>628425</th>\n",
       "      <td> 3594</td>\n",
       "      <td> 193776</td>\n",
       "      <td> 1</td>\n",
       "    </tr>\n",
       "    <tr>\n",
       "      <th>628426</th>\n",
       "      <td> 3594</td>\n",
       "      <td> 199795</td>\n",
       "      <td> 1</td>\n",
       "    </tr>\n",
       "    <tr>\n",
       "      <th>628427</th>\n",
       "      <td> 3594</td>\n",
       "      <td> 208218</td>\n",
       "      <td> 1</td>\n",
       "    </tr>\n",
       "    <tr>\n",
       "      <th>628428</th>\n",
       "      <td> 3594</td>\n",
       "      <td> 222611</td>\n",
       "      <td> 1</td>\n",
       "    </tr>\n",
       "    <tr>\n",
       "      <th>628429</th>\n",
       "      <td> 3594</td>\n",
       "      <td> 236974</td>\n",
       "      <td> 1</td>\n",
       "    </tr>\n",
       "    <tr>\n",
       "      <th>628430</th>\n",
       "      <td> 3594</td>\n",
       "      <td> 251404</td>\n",
       "      <td> 1</td>\n",
       "    </tr>\n",
       "    <tr>\n",
       "      <th>628431</th>\n",
       "      <td> 3594</td>\n",
       "      <td> 265781</td>\n",
       "      <td> 1</td>\n",
       "    </tr>\n",
       "    <tr>\n",
       "      <th>628432</th>\n",
       "      <td> 3594</td>\n",
       "      <td> 280223</td>\n",
       "      <td> 1</td>\n",
       "    </tr>\n",
       "    <tr>\n",
       "      <th>628433</th>\n",
       "      <td> 3594</td>\n",
       "      <td> 290430</td>\n",
       "      <td> 1</td>\n",
       "    </tr>\n",
       "    <tr>\n",
       "      <th>628434</th>\n",
       "      <td> 3594</td>\n",
       "      <td> 296075</td>\n",
       "      <td> 1</td>\n",
       "    </tr>\n",
       "    <tr>\n",
       "      <th>628435</th>\n",
       "      <td> 3594</td>\n",
       "      <td> 299096</td>\n",
       "      <td> 1</td>\n",
       "    </tr>\n",
       "    <tr>\n",
       "      <th>628436</th>\n",
       "      <td> 3594</td>\n",
       "      <td> 309027</td>\n",
       "      <td> 1</td>\n",
       "    </tr>\n",
       "  </tbody>\n",
       "</table>\n",
       "<p>628437 rows × 3 columns</p>\n",
       "</div>"
      ],
      "text/plain": [
       "          ID    TIME  ICU\n",
       "0          1       0    0\n",
       "1          1    4320    0\n",
       "2          1    5646    1\n",
       "3          1    5703    1\n",
       "4          1    6342    1\n",
       "5          1    6609    1\n",
       "6          1    6894    1\n",
       "7          1    6957    1\n",
       "8          1    7511    1\n",
       "9          1    8372    1\n",
       "10         1    9297    1\n",
       "11         1   10213    1\n",
       "12         1   11079    1\n",
       "13         1   11123    1\n",
       "14         1   12015    1\n",
       "15         1   12889    1\n",
       "16         1   13798    1\n",
       "17         1   14713    1\n",
       "18         1   15577    1\n",
       "19         1   16523    1\n",
       "20         1   17415    1\n",
       "21         1   17581    1\n",
       "22         1   17644    1\n",
       "23         1   17893    1\n",
       "24         1   17938    1\n",
       "25         1   18306    1\n",
       "26         1   21903    1\n",
       "27         1   22787    1\n",
       "28         1   23670    1\n",
       "29         1   24584    1\n",
       "...      ...     ...  ...\n",
       "628407  3594  107386    1\n",
       "628408  3594  111004    1\n",
       "628409  3594  114605    1\n",
       "628410  3594  115010    1\n",
       "628411  3594  118210    1\n",
       "628412  3594  121812    1\n",
       "628413  3594  125428    1\n",
       "628414  3594  129024    1\n",
       "628415  3594  132575    1\n",
       "628416  3594  134562    1\n",
       "628417  3594  134989    1\n",
       "628418  3594  136184    1\n",
       "628419  3594  143397    1\n",
       "628420  3594  150035    1\n",
       "628421  3594  150727    1\n",
       "628422  3594  155715    1\n",
       "628423  3594  164985    1\n",
       "628424  3594  179398    1\n",
       "628425  3594  193776    1\n",
       "628426  3594  199795    1\n",
       "628427  3594  208218    1\n",
       "628428  3594  222611    1\n",
       "628429  3594  236974    1\n",
       "628430  3594  251404    1\n",
       "628431  3594  265781    1\n",
       "628432  3594  280223    1\n",
       "628433  3594  290430    1\n",
       "628434  3594  296075    1\n",
       "628435  3594  299096    1\n",
       "628436  3594  309027    1\n",
       "\n",
       "[628437 rows x 3 columns]"
      ]
     },
     "execution_count": 45,
     "metadata": {},
     "output_type": "execute_result"
    }
   ],
   "source": [
    "vit"
   ]
  },
  {
   "cell_type": "code",
   "execution_count": 25,
   "metadata": {
    "collapsed": true
   },
   "outputs": [
    {
     "data": {
      "text/html": [
       "<div style=\"max-height:1000px;max-width:1500px;overflow:auto;\">\n",
       "<table border=\"1\" class=\"dataframe\">\n",
       "  <thead>\n",
       "    <tr style=\"text-align: right;\">\n",
       "      <th></th>\n",
       "      <th>B</th>\n",
       "      <th>C</th>\n",
       "      <th>A_a</th>\n",
       "      <th>A_b</th>\n",
       "    </tr>\n",
       "  </thead>\n",
       "  <tbody>\n",
       "    <tr>\n",
       "      <th>0</th>\n",
       "      <td> 1</td>\n",
       "      <td> 16</td>\n",
       "      <td> 1</td>\n",
       "      <td> 0</td>\n",
       "    </tr>\n",
       "    <tr>\n",
       "      <th>1</th>\n",
       "      <td> 2</td>\n",
       "      <td> 34</td>\n",
       "      <td> 0</td>\n",
       "      <td> 1</td>\n",
       "    </tr>\n",
       "    <tr>\n",
       "      <th>2</th>\n",
       "      <td> 3</td>\n",
       "      <td> 12</td>\n",
       "      <td> 1</td>\n",
       "      <td> 0</td>\n",
       "    </tr>\n",
       "  </tbody>\n",
       "</table>\n",
       "</div>"
      ],
      "text/plain": [
       "   B   C  A_a  A_b\n",
       "0  1  16    1    0\n",
       "1  2  34    0    1\n",
       "2  3  12    1    0"
      ]
     },
     "execution_count": 25,
     "metadata": {},
     "output_type": "execute_result"
    }
   ],
   "source": [
    "# df = pd.DataFrame({'A': ['a', 'b', 'a'], 'B': [1, 2, 3],\n",
    "#                     'C': [16, 34, 12]})\n",
    "# pd.get_dummies(df)"
   ]
  },
  {
   "cell_type": "code",
   "execution_count": 101,
   "metadata": {
    "collapsed": false
   },
   "outputs": [],
   "source": [
    "# reading validation files\n",
    "# age_val=pd.read_csv('id_age_val.csv')\n",
    "# lab_val=pd.read_csv('id_time_labs_val.csv')\n",
    "# vit_val=pd.read_csv('id_time_vitals_val.csv')\n"
   ]
  },
  {
   "cell_type": "code",
   "execution_count": 102,
   "metadata": {
    "collapsed": false
   },
   "outputs": [],
   "source": [
    "# combining Training and Validation dataframes for combined training\n",
    "# age=pd.concat([age,age_val],ignore_index=True,axis=0)\n",
    "# vit=pd.concat([vit,vit_val],ignore_index=True,axis=0)\n",
    "# lab=pd.concat([lab,lab_val],ignore_index=True,axis=0)\n"
   ]
  },
  {
   "cell_type": "code",
   "execution_count": 103,
   "metadata": {
    "collapsed": true
   },
   "outputs": [],
   "source": [
    "vit=vit.fillna(vit.median())"
   ]
  },
  {
   "cell_type": "code",
   "execution_count": 104,
   "metadata": {
    "collapsed": false
   },
   "outputs": [],
   "source": [
    "vit[[u'V1', u'V2', u'V3', u'V4', u'V5', u'V6']]=vit[[u'V1', u'V2', u'V3', u'V4', u'V5', u'V6']].applymap(lambda x: math.log(1+x))\n"
   ]
  },
  {
   "cell_type": "code",
   "execution_count": 105,
   "metadata": {
    "collapsed": false
   },
   "outputs": [],
   "source": [
    "# filling labs values with ideal values\n",
    "\n",
    "# values=[7.4,40,85,140,43.5,25,13,0.9,7,48,275,1.1,1400,190, 1.3,0.01,0.01,87.5,87.5, 47.39,4.4,94,25,50,2]\n",
    "# lab2=lab.copy()\n",
    "# for i,col in enumerate(lab.columns[2:]):\n",
    "#     lab[col]=lab[col].fillna()\n",
    "#     lab2[col]=values[i] \n",
    "    \n",
    "# result=(lab-lab2)\n",
    "# result['ID']=lab.ID\n",
    "# result['TIME']=lab.TIME\n",
    "# lab=result.copy()\n",
    "lab=lab.fillna(lab.median())\n",
    "lab=lab.applymap(lambda x: math.log(1+x))"
   ]
  },
  {
   "cell_type": "markdown",
   "metadata": {},
   "source": [
    "## Feature Extraction"
   ]
  },
  {
   "cell_type": "code",
   "execution_count": 106,
   "metadata": {
    "collapsed": false
   },
   "outputs": [
    {
     "data": {
      "text/plain": [
       "3594"
      ]
     },
     "execution_count": 106,
     "metadata": {},
     "output_type": "execute_result"
    }
   ],
   "source": [
    "# y - LABELS\n",
    "y_train=np.array(lbl.LABEL.values)\n",
    "# y_val=[]\n",
    "# lbl_val=open('id_label_val.txt','rb')\n",
    "# for f in lbl_val.readlines():\n",
    "#     y_val.append( f.split(',')[1].strip())\n",
    "# y_train=np.concatenate([y_train,y_val])\n",
    "np.save('y_train.npy',y_train)\n",
    "len(y_train)"
   ]
  },
  {
   "cell_type": "code",
   "execution_count": 107,
   "metadata": {
    "collapsed": false
   },
   "outputs": [],
   "source": [
    "#  Extracting features from VITALS\n",
    "\n",
    "vit_m=vit\n",
    "# stdev=vit_m.groupby(by='ID').std() # std deviation\n",
    "med=vit_m.groupby(by='ID').median()  # median \n",
    "maxm=vit_m.groupby(by='ID').max() \n",
    "minm=vit_m.groupby(by='ID').min() \n",
    "max_min=maxm-minm  # maximum - minimum\n",
    "num_stamps=vit_m.groupby(by='ID').count()\n",
    "\n",
    "t_diff=vit_m.groupby(by='ID').apply(lambda x: (x.iat[len(x)-1,1])/len(x))\n",
    "t_diff_arr=[[item] for item in t_diff.values]\n"
   ]
  },
  {
   "cell_type": "code",
   "execution_count": 108,
   "metadata": {
    "collapsed": true
   },
   "outputs": [],
   "source": [
    "#  Features from LABS\n",
    "med_lab=lab.groupby(by='ID').median()  # median \n",
    "maxm_lab=lab.groupby(by='ID').max() \n",
    "minm_lab=lab.groupby(by='ID').min()\n",
    "max_min_lab=maxm_lab-minm_lab  # maximum - minimum"
   ]
  },
  {
   "cell_type": "code",
   "execution_count": 109,
   "metadata": {
    "collapsed": true
   },
   "outputs": [],
   "source": [
    "# imp=Imputer(missing_values='NaN',strategy='mean')\n",
    "# stdev=imp.fit_transform(stdev)"
   ]
  },
  {
   "cell_type": "code",
   "execution_count": 110,
   "metadata": {
    "collapsed": false
   },
   "outputs": [],
   "source": [
    "first_values=[]\n",
    "for i,column in enumerate(['V1','V2','V3','V4','V5','V6']):\n",
    "    ser=vit_m[column][vit_m.groupby(by='ID')[column].apply(lambda x: x.first_valid_index())].values\n",
    "    first_values.append(ser)\n",
    "first_values=np.array(first_values).transpose()  # contains first values of all vitals for each patient\n"
   ]
  },
  {
   "cell_type": "code",
   "execution_count": 111,
   "metadata": {
    "collapsed": false
   },
   "outputs": [],
   "source": [
    "last_values=[]\n",
    "for i,column in enumerate(['V1','V2','V3','V4','V5','V6']):\n",
    "    ser=vit_m[column][vit_m.groupby(by='ID')[column].apply(lambda x: x.last_valid_index())].values\n",
    "    last_values.append(ser)\n",
    "last_values=np.array(last_values).transpose()  # contains last values of all vitals for each patient\n"
   ]
  },
  {
   "cell_type": "markdown",
   "metadata": {},
   "source": [
    "## Combining extracted features from different dataframes "
   ]
  },
  {
   "cell_type": "code",
   "execution_count": 112,
   "metadata": {
    "collapsed": false
   },
   "outputs": [],
   "source": [
    "\n",
    "feat=np.concatenate([age.values[:,1:2],\n",
    "                    med.iloc[:,1:7].values,\n",
    "                    maxm.iloc[:,1:7].values, \n",
    "                    minm.iloc[:,1:7].values, \n",
    "                    max_min.iloc[:,1:7].values,\n",
    "                    num_stamps.values[:,0:1],\n",
    "                    t_diff_arr]\n",
    "                    ,axis=1)\n",
    "#                 no_values.iloc[:,2:8].values],axis=1) "
   ]
  },
  {
   "cell_type": "code",
   "execution_count": 113,
   "metadata": {
    "collapsed": true
   },
   "outputs": [],
   "source": [
    "lab_features=np.concatenate([\n",
    "                            med_lab.iloc[:,1:26].values,\n",
    "                            maxm_lab.iloc[:,1:26].values,\n",
    "                            minm_lab.iloc[:,1:26].values,\n",
    "                            max_min_lab.iloc[:,1:26].values\n",
    "                            ],axis=1)\n",
    "        \n",
    "                            "
   ]
  },
  {
   "cell_type": "code",
   "execution_count": 114,
   "metadata": {
    "collapsed": true
   },
   "outputs": [],
   "source": [
    "x_train=np.concatenate([feat, \n",
    "                        first_values, \n",
    "                        last_values ,\n",
    "                        lab_features\n",
    "                        ],axis=1)"
   ]
  },
  {
   "cell_type": "code",
   "execution_count": 115,
   "metadata": {
    "collapsed": false
   },
   "outputs": [
    {
     "data": {
      "text/plain": [
       "(3594L, 139L)"
      ]
     },
     "execution_count": 115,
     "metadata": {},
     "output_type": "execute_result"
    }
   ],
   "source": [
    "np.save('x_train.npy',x_train)\n",
    "x_train.shape"
   ]
  }
 ],
 "metadata": {
  "kernelspec": {
   "display_name": "Python 2",
   "language": "python",
   "name": "python2"
  },
  "language_info": {
   "codemirror_mode": {
    "name": "ipython",
    "version": 2
   },
   "file_extension": ".py",
   "mimetype": "text/x-python",
   "name": "python",
   "nbconvert_exporter": "python",
   "pygments_lexer": "ipython2",
   "version": "2.7.9"
  }
 },
 "nbformat": 4,
 "nbformat_minor": 0
}
