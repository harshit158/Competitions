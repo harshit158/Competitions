{
 "cells": [
  {
   "cell_type": "markdown",
   "metadata": {},
   "source": [
    "###Importing Libraries"
   ]
  },
  {
   "cell_type": "code",
   "execution_count": 83,
   "metadata": {
    "collapsed": false
   },
   "outputs": [
    {
     "name": "stdout",
     "output_type": "stream",
     "text": [
      "Populating the interactive namespace from numpy and matplotlib\n"
     ]
    },
    {
     "name": "stderr",
     "output_type": "stream",
     "text": [
      "WARNING: pylab import has clobbered these variables: ['select']\n",
      "`%matplotlib` prevents importing * from pylab and numpy\n"
     ]
    }
   ],
   "source": [
    "# Importing Libraries \n",
    "import csv\n",
    "import pandas as pd\n",
    "from IPython.display import clear_output\n",
    "import numpy as np\n",
    "import matplotlib.pyplot as plt \n",
    "from sklearn.preprocessing import StandardScaler, OneHotEncoder, Imputer\n",
    "from time import time\n",
    "%pylab inline"
   ]
  },
  {
   "cell_type": "markdown",
   "metadata": {},
   "source": [
    "### Importing Classifiers"
   ]
  },
  {
   "cell_type": "code",
   "execution_count": 84,
   "metadata": {
    "collapsed": false
   },
   "outputs": [],
   "source": [
    "from __future__ import division\n",
    "from sklearn.ensemble import RandomForestClassifier, ExtraTreesClassifier, GradientBoostingClassifier,AdaBoostClassifier\n",
    "from sklearn.preprocessing import StandardScaler\n",
    "from sklearn.linear_model import LogisticRegression,LogisticRegressionCV\n",
    "# from sklearn.linear_model.logistic import LogisticRegressionCV\n",
    "from sklearn.cross_validation import StratifiedKFold\n",
    "from sklearn.cross_validation import train_test_split\n",
    "from sklearn.svm import LinearSVC\n",
    "from sklearn.decomposition import PCA\n",
    "from sklearn import svm\n",
    "from sklearn.preprocessing import StandardScaler, OneHotEncoder\n",
    "from sklearn.neighbors import KNeighborsClassifier\n",
    "from sklearn.tree import DecisionTreeClassifier\n",
    "from sklearn import mixture\n",
    "from sklearn import cross_validation\n"
   ]
  },
  {
   "cell_type": "code",
   "execution_count": 85,
   "metadata": {
    "collapsed": false
   },
   "outputs": [
    {
     "name": "stdout",
     "output_type": "stream",
     "text": [
      "(3594L, 139L)\n",
      "(161121L, 139L)\n"
     ]
    }
   ],
   "source": [
    "# Loading training and test files\n",
    "X_train=np.load('x_train.npy')\n",
    "y_train=np.load('y_train.npy')\n",
    "X_submission=np.load('x_submission.npy')\n",
    "stamps=np.load('stamps.npy')\n",
    "\n",
    "print X_train.shape\n",
    "print X_submission.shape\n"
   ]
  },
  {
   "cell_type": "code",
   "execution_count": 86,
   "metadata": {
    "collapsed": false
   },
   "outputs": [],
   "source": [
    "# Scaling\n",
    "scale = StandardScaler(with_std=False)\n",
    "X_train=scale.fit_transform(X_train)\n",
    "X_submission=scale.transform(X_submission)\n",
    "\n",
    "# Feature Selection\n",
    "from sklearn.feature_selection import SelectKBest\n",
    "from sklearn.feature_selection import chi2\n",
    "from sklearn.feature_selection import f_classif\n",
    "select=SelectKBest(chi2, k=40)\n",
    "# X_train=select.fit_transform(X_train, y_train)\n",
    "\n",
    "# PCA\n",
    "pca=PCA(n_components=100)\n",
    "# X_train_pca=pca.fit_transform(X_train)\n",
    "# x_submission_pca=pca.transform(x_submission)"
   ]
  },
  {
   "cell_type": "markdown",
   "metadata": {},
   "source": [
    "### Stackers"
   ]
  },
  {
   "cell_type": "code",
   "execution_count": 87,
   "metadata": {
    "collapsed": false
   },
   "outputs": [],
   "source": [
    "clfs = [\n",
    "        RandomForestClassifier(n_estimators=100, n_jobs=-1, criterion='entropy'),\n",
    "        ExtraTreesClassifier(n_estimators=50, n_jobs=-1, criterion='gini'),\n",
    "#         GradientBoostingClassifier(learning_rate=0.05, subsample=0.5, max_depth=6, n_estimators=50),\n",
    "#         AdaBoostClassifier(algorithm='SAMME',base_estimator=DecisionTreeClassifier(max_depth=10),n_estimators=100,learning_rate=0.5),\n",
    "#         LinearSVC(C=0.1, penalty=\"l1\", dual=False),\n",
    "        LogisticRegression(),\n",
    "#         KNeighborsClassifier(n_neighbors=10),\n",
    "        ]\n",
    "# clf.fit(X_train,y_train)"
   ]
  },
  {
   "cell_type": "markdown",
   "metadata": {},
   "source": [
    "### Stack"
   ]
  },
  {
   "cell_type": "code",
   "execution_count": 88,
   "metadata": {
    "collapsed": true
   },
   "outputs": [],
   "source": [
    "def stack():  \n",
    "    n_folds  =10\n",
    "    skf = list(StratifiedKFold(y_train,n_folds))\n",
    "    X_blended_training = np.zeros((X_train.shape[0],2*len(clfs)))\n",
    "    X_blended_submission = np.zeros((X_submission.shape[0],2*len(clfs)))\n",
    "    for i,clf in enumerate(clfs):\n",
    "        print \"IN CLASSIFIER NUMBER: \",i+1\n",
    "        X_blended_submission_clf = np.zeros((len(X_blended_submission),2))\n",
    "        columns = np.array(range(2)) + i*2\n",
    "        for j,(train,test) in enumerate(skf):\n",
    "            print \"FOLD: \",j+1\n",
    "            clf.fit(X_train[train],y_train[train])\n",
    "            X_blended_training[test[:, None],columns] = clf.predict_proba(X_train[test])\n",
    "            X_blended_submission_clf = X_blended_submission_clf + clf.predict_proba(X_submission)\n",
    "        X_blended_submission_clf = X_blended_submission_clf/len(skf)\n",
    "        X_blended_submission[:,columns] = X_blended_submission_clf\n",
    "\n",
    "\n",
    "    print X_blended_training.shape\n",
    "    print X_blended_submission.shape\n",
    "\n",
    "    print 'Saving X_blended_training and X_blended_submission.npy'\n",
    "    np.save('X_blended_training.npy',X_blended_training)\n",
    "    np.save('X_blended_submission.npy',X_blended_submission)\n",
    "\n",
    "\n",
    "        "
   ]
  },
  {
   "cell_type": "markdown",
   "metadata": {},
   "source": [
    "###Control\n",
    "Comment the function stack() if using the same X_train and X_submission"
   ]
  },
  {
   "cell_type": "code",
   "execution_count": 89,
   "metadata": {
    "collapsed": false
   },
   "outputs": [],
   "source": [
    "# stack()\n",
    "X_blended_training= np.load('X_blended_training.npy')\n",
    "X_blended_submission=np.load('X_blended_submission.npy')"
   ]
  },
  {
   "cell_type": "markdown",
   "metadata": {},
   "source": [
    "###Final Prediction"
   ]
  },
  {
   "cell_type": "code",
   "execution_count": 91,
   "metadata": {
    "collapsed": false
   },
   "outputs": [
    {
     "name": "stdout",
     "output_type": "stream",
     "text": [
      "180\n",
      "Sensitivity:  0.756097560976\n",
      "Specificity:  0.894265232975\n",
      "Accuracy:  0.884808013356\n",
      "Median Prediction time:  87.4040277778\n",
      "SCORE:  0.288399335606\n"
     ]
    }
   ],
   "source": [
    "clf=RandomForestClassifier(n_estimators=100, n_jobs=-1, max_depth=2 ,max_features=6,criterion='entropy')\n",
    "# clf=ExtraTreesClassifier(n_estimators=50, n_jobs=-1, criterion='gini')\n",
    "# clf=GradientBoostingClassifier(learning_rate=0.05, subsample=0.5, max_depth=6, n_estimators=50)\n",
    "# clf=KNeighborsClassifier(n_neighbors=10)\n",
    "# clf=LogisticRegression(C=0.01)\n",
    "# clf=LinearSVC(C=1, penalty=\"l2\", dual=False)\n",
    "# clf=AdaBoostClassifier(algorithm='SAMME',base_estimator=DecisionTreeClassifier(max_depth=10),n_estimators=100,learning_rate=0.6)\n",
    "        \n",
    "clf.fit(X_blended_training,y_train)\n",
    "pred_arr=clf.predict(X_blended_submission)\n",
    "\n",
    "f=open('output_stack.csv','wb')\n",
    "writer=csv.writer(f)\n",
    "\n",
    "for i,pred in enumerate(pred_arr):\n",
    "    writer.writerow([stamps[i][0],stamps[i][1], pred])\n",
    "        \n",
    "f.close()  \n",
    "\n",
    "#calculating score\n",
    "%run score.py output_stack.csv"
   ]
  }
 ],
 "metadata": {
  "kernelspec": {
   "display_name": "Python 2",
   "language": "python",
   "name": "python2"
  },
  "language_info": {
   "codemirror_mode": {
    "name": "ipython",
    "version": 2
   },
   "file_extension": ".py",
   "mimetype": "text/x-python",
   "name": "python",
   "nbconvert_exporter": "python",
   "pygments_lexer": "ipython2",
   "version": "2.7.9"
  }
 },
 "nbformat": 4,
 "nbformat_minor": 0
}
