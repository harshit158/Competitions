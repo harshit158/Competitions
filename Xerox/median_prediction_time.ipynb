{
 "cells": [
  {
   "cell_type": "code",
   "execution_count": 29,
   "metadata": {
    "collapsed": true
   },
   "outputs": [],
   "source": [
    "import csv\n",
    "import pandas as pd\n",
    "from IPython.display import clear_output\n",
    "import numpy as np\n",
    "import matplotlib.pyplot as plt \n",
    "from sklearn.preprocessing import StandardScaler, OneHotEncoder, Imputer,normalize\n",
    "from sklearn import preprocessing"
   ]
  },
  {
   "cell_type": "code",
   "execution_count": 30,
   "metadata": {
    "collapsed": false
   },
   "outputs": [],
   "source": [
    "pred=pd.read_csv('output.csv', names=['ID','TIME','LABEL'])\n",
    "actual=pd.read_csv('id_label_val.csv',names=['ID','LABEL'],index_col='ID')\n",
    "\n",
    "pred_arr=pred.groupby(by='ID').max()\n",
    "pred_arr2=pred_arr.copy()\n",
    "pred_arr['LABEL_act']=actual['LABEL']\n",
    "pred_arr=pred_arr[pred_arr.LABEL==1]\n",
    "pred_arr=pred_arr[pred_arr.LABEL==pred_arr.LABEL_act]"
   ]
  },
  {
   "cell_type": "code",
   "execution_count": 31,
   "metadata": {
    "collapsed": false
   },
   "outputs": [
    {
     "name": "stdout",
     "output_type": "stream",
     "text": [
      "0.0\n",
      "23\n"
     ]
    }
   ],
   "source": [
    "\n",
    "# index=pred_arr2[pred_arr2.LABEL==1].index  #wrong\n",
    "index=pred_arr.index\n",
    "# print index\n",
    "median1=[]\n",
    "for i,item in enumerate(index):\n",
    "    pred1=pred[pred.ID==item]\n",
    "    median1.append(float((pred1.tail(1).TIME.values-pred1[pred1.LABEL==1].head(1).TIME.values)[0])/3600.0)\n",
    "# print np.sort(median1)\n",
    "print np.median(median1)\n",
    "print len(median1)\n",
    "#     print (pred1[pred1.LABEL==1].tail(1).TIME-pred1[pred1.LABEL==1].head(1).TIME)\n",
    "# print np.median(median1)\n",
    "# print median1[1]"
   ]
  }
 ],
 "metadata": {
  "kernelspec": {
   "display_name": "Python 2",
   "language": "python",
   "name": "python2"
  },
  "language_info": {
   "codemirror_mode": {
    "name": "ipython",
    "version": 2
   },
   "file_extension": ".py",
   "mimetype": "text/x-python",
   "name": "python",
   "nbconvert_exporter": "python",
   "pygments_lexer": "ipython2",
   "version": "2.7.9"
  }
 },
 "nbformat": 4,
 "nbformat_minor": 0
}
